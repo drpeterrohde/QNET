{
 "cells": [
  {
   "cell_type": "markdown",
   "metadata": {},
   "source": [
    "# A Brief Intoduction To Qnet\n",
    "\n",
    "Hudson Leone <br>\n",
    "Hudson.T.Leone@UTS.student.edu.au <br>\n",
    "leoneht0@gmail.com <br>\n",
    "13/04/20"
   ]
  },
  {
   "cell_type": "code",
   "execution_count": 9,
   "metadata": {},
   "outputs": [],
   "source": [
    "# Networks\n",
    "import networkx as nx\n",
    "import QNET\n",
    "\n",
    "# Utilities\n",
    "import numpy as np\n",
    "import random\n",
    "\n",
    "\n",
    "#Plot functions\n",
    "import matplotlib.pyplot as plt\n",
    "from mpl_toolkits.mplot3d import Axes3D\n",
    "from mpl_toolkits.mplot3d import art3d\n",
    "import matplotlib.animation as animation\n",
    "\n",
    "# Sample graphs\n",
    "from Graph1 import X as X1\n",
    "from Graph2 import X as X2\n",
    "\n",
    "# Interactive widgets\n",
    "from ipywidgets import interact, interactive, fixed, interact_manual\n",
    "import ipywidgets as widgets\n",
    "\n",
    "%matplotlib widget"
   ]
  },
  {
   "cell_type": "markdown",
   "metadata": {},
   "source": [
    "## What is Qnet?\n",
    "\n",
    "Qnet will be an extention for the Python module NetworkX, which I'm currently developping under the supervision of Dr. Peter Rohde. Our intention is to produce a package capable of simulating realistic quantum networks on a graph theoretical level and provide users with intuitive tools for:\n",
    "\n",
    "* Developing and testing new local protocols for quantum internet\n",
    "* Implementing contemporary strategies for entanglement distribution such as through entanglement purification and entanglement swapping \n",
    "* Generating quantum networks of different sizes and topologies\n",
    "* Evaluating costs unique to quantum communications such as coherence and fidelity \n",
    "* Simulating quantum networks with global satellite constellations.\n"
   ]
  },
  {
   "cell_type": "markdown",
   "metadata": {},
   "source": [
    "## Why NetworkX?\n",
    "\n",
    "NetworkX is a fast and robust Python package suitable for simmulating network structures of up to 10 million nodes and 100 million edges. The NetworkX library is large with many built-in optimization functions and has support from 3rd party visualisation packages such as Cytoscape, Gephi, Graphviz and, for LaTeX typesetting, PGF/TikZ.\n",
    "\n",
    "For doccumentation please visit the [NetworkX website](https://networkx.github.io/documentation/latest/)"
   ]
  },
  {
   "cell_type": "markdown",
   "metadata": {},
   "source": [
    "## Why Qnet?\n",
    "\n",
    "Qnet emerges from the growing need for data scientists to research quantum networks without any such thing existing in the real world as of 2020. Our team envisions a dual network where quibits are communicated via the lossless entanglement channel. Say we have two communication parties, Alice and Bob, who each recieve half of a known entangled state such as a bell pair. Rather than encode a qubit and send it to Bob directly, Alice can communicate a qubit by manipulating her half of the bell pair, performing a measurement, and sending Bob the result.\n",
    "\n",
    "This approach greatly simplifies the problem of communicating qubits. Rather than send a qubit directly through a lossy channel, we can focus on producing large numbers of known bell pairs, which can purified as they pass through the network. Additionally, the entanglement based network will continue to make use of existing infrastrucutre to communicate measurement results.\n",
    "\n",
    "The purpose of Qnet is not to simulate the state of the bell pair as it travels to Alice and Bob, nor does it focus on a realistic implementation of low-level protocols. Instead, Qnet is intended as a way to calculate costs unique to quantum networks and then perform optimizations using existing mathematical and graph theory techniques."
   ]
  },
  {
   "cell_type": "markdown",
   "metadata": {},
   "source": [
    "# Implementation:\n",
    "\n",
    "A Qnet is a subclass of networkX. Anything you'd want to do with NetworkX you can also do with Qnet.\n",
    "\n",
    "TODO: \n",
    "* How much NetworkX documentation is necessary here?\n",
    "* What features of NetworkX are the most important to communicate?\n",
    "    * Djikstra path\n",
    "    * What else?"
   ]
  },
  {
   "cell_type": "code",
   "execution_count": 3,
   "metadata": {},
   "outputs": [
    {
     "name": "stdout",
     "output_type": "stream",
     "text": [
      "['A', 'B', 'C']\n",
      "Easy as 1, 2, 3\n"
     ]
    }
   ],
   "source": [
    "myNet = QNET.Qnet()\n",
    "myNet.add_node('A')\n",
    "myNet.add_nodes_from(['B', 'C'])\n",
    "print(myNet.nodes)\n",
    "print(\"Easy as 1, 2, 3\")"
   ]
  },
  {
   "cell_type": "markdown",
   "metadata": {},
   "source": [
    "## Qnodes:\n",
    "\n",
    "Qnodes are the building blocks of Qnet. \n",
    "\n",
    "TODO:\n",
    "* What can Qnodes do?\n",
    "    * Tramsission of bits and qubits\n",
    "    * Quantum measurements\n",
    "    * Quantum memories\n",
    "    * Interface between modes\n",
    "\n",
    "The Qnode type is the default class, but different subclasses perform different functions.\n",
    "\n",
    "TODO:\n",
    "Qnodes can be initialized one at a time or initialized from an array of dictionaries."
   ]
  },
  {
   "cell_type": "code",
   "execution_count": 4,
   "metadata": {},
   "outputs": [
    {
     "name": "stdout",
     "output_type": "stream",
     "text": [
      "Qnode.name: Athos -- Coords:[1, 2, 3] -- <class 'Node.Qnode'>\n"
     ]
    }
   ],
   "source": [
    "Q = QNET.Qnet()\n",
    "new_node = QNET.Qnode(name = 'Athos', coords = [1,2,3])\n",
    "print(new_node)\n",
    "Q.add_node(new_node)"
   ]
  },
  {
   "cell_type": "code",
   "execution_count": 6,
   "metadata": {},
   "outputs": [
    {
     "name": "stdout",
     "output_type": "stream",
     "text": [
      "Qnode.name: Porthos -- Coords:[2, 3, 4] -- <class 'Node.Qnode'>\n",
      "Qnode.name: Aramis -- Coords:[3, 4, 5] -- <class 'Node.Qnode'>\n",
      "Qnode.name: Tesla Roadster -- Coords:[0, 0, 0] -- <class 'Node.Satellite'>\n"
     ]
    }
   ],
   "source": [
    "Q = QNET.Qnet()\n",
    "new_nodes = [{'name': 'Porthos', 'coords':[2,3,4]}, {'name': 'Aramis', 'coords':[3,4,5]}]\n",
    "Q.add_qnodes_from(new_nodes)\n",
    "\n",
    "    \n",
    "new_node = QNET.Satellite(name = 'Tesla Roadster', coords = [0,0,0], velocity = [1,1])\n",
    "Q.add_node(new_node)\n",
    "\n",
    "for node in Q.nodes():\n",
    "    print(node)"
   ]
  },
  {
   "cell_type": "markdown",
   "metadata": {},
   "source": [
    "### Grounds\n",
    "\n",
    "Ground nodes are the entanglement sources of the network. For a quantum communication to be possible for two communication parties, there must be at least one ground node in the path connecting them."
   ]
  },
  {
   "cell_type": "markdown",
   "metadata": {},
   "source": [
    "### Satellites\n",
    "\n",
    "Satellite nodes are like ground nodes, but with velocity and range attributes. Loss between satellites and nodes on the ground are calculated with an attribute function called airC"
   ]
  },
  {
   "cell_type": "markdown",
   "metadata": {},
   "source": [
    "### Swappers\n",
    "\n",
    "Swapper nodes perform a swapping operation via polarizing beam splitter. Given two pairs of bell states, the swapper measures the two innermost qubits and projects the entanglement on the outermost qubits with probability 1/2. In order for the swapper to work, there must be at least two ground stations on the path with the swapper, one on either side.\n",
    "\n",
    "TODO:\n",
    "* More detail here\n",
    "* Link to New Paper"
   ]
  },
  {
   "cell_type": "markdown",
   "metadata": {},
   "source": [
    "## Channels"
   ]
  },
  {
   "cell_type": "markdown",
   "metadata": {},
   "source": [
    "Channels in Qnet currently work the same as edges in NetworkX. Given two nodes you can initialise an edge between them one by one or from a list of dictionaries. Any attributes aside from 'edge' will be added into a cost vector associated with that channel.\n",
    "\n",
    "TODO:"
   ]
  },
  {
   "cell_type": "code",
   "execution_count": 5,
   "metadata": {},
   "outputs": [
    {
     "name": "stdout",
     "output_type": "stream",
     "text": [
      "Qnode.name: A -- Coords:[0, 0, 0] -- <class 'Node.Qnode'>\n",
      "Qnode.name: B -- Coords:[1, 1, 1] -- <class 'Node.Qnode'>\n",
      "Qnode.name: C -- Coords:[2, 2, 2] -- <class 'Node.Qnode'>\n",
      "Qnode.name: D -- Coords:[3, 3, 3] -- <class 'Node.Qnode'>\n",
      "\n",
      "\n",
      "A <--> B -- Costs: {'Loss': 100}\n",
      "A <--> D -- Costs: {}\n",
      "B <--> C -- Costs: {'Fid': 0.5}\n",
      "B <--> D -- Costs: {'Language': 'French'}\n"
     ]
    }
   ],
   "source": [
    "Q = QNET.Qnet()\n",
    "new_nodes = [{'name': 'A', 'coords':[0,0,0]},\n",
    "             {'name': 'B', 'coords':[1,1,1]}, \n",
    "             {'name': 'C', 'coords':[2,2,2]},\n",
    "            {'name': 'D', 'coords':[3,3,3]}]\n",
    "\n",
    "new_chans = [{'edge': ('A', 'B'), 'Loss':100},\n",
    "            {'edge': ('B', 'C'), 'Fid': 0.5},\n",
    "            {'edge': ('B', 'D'), 'Language':'French'},\n",
    "            {'edge': ('D', 'A')}]\n",
    "\n",
    "Q.add_qnodes_from(new_nodes)\n",
    "Q.add_qchans_from(new_chans)\n",
    "\n",
    "for node in Q.nodes:\n",
    "    print(node)\n",
    "    \n",
    "print('\\n')\n",
    "\n",
    "Q.print_qchans()"
   ]
  },
  {
   "cell_type": "markdown",
   "metadata": {},
   "source": [
    "## Costs:\n",
    "\n",
    "Qnet can work with a variety of cost types\n",
    "\n",
    "* P <br>\n",
    "    Probability of a successful Bell pair transmission\n",
    "* Q <br> \n",
    "    Dephasing probability: <br> Q = 1 - P\n",
    "* loss <br>\n",
    "    Decibelic form of P: <br> loss = -ln(P) <br>\n",
    "* gain <br>\n",
    "    Decibelic form of Q: <br> gain = -ln(Q) <br>\n",
    "    \n",
    "TODO:\n",
    "* Discuss fidelity\n",
    "* Discuss coherence\n",
    "* Should I discuss holistically or specifically in terms of bell pairs?"
   ]
  },
  {
   "cell_type": "markdown",
   "metadata": {},
   "source": [
    "## Paths\n",
    "\n",
    "The Path class in Qnet is a quick and easy way to keep track of important paths in Qnet and also offers a simple cost() method for determining the cost of the path for various metrics:\n",
    "\n",
    "TODO: \n",
    "* Example of paths"
   ]
  },
  {
   "cell_type": "markdown",
   "metadata": {},
   "source": [
    "## Visualising Qnet Structures\n",
    "\n",
    "TODO:\n",
    "* Example"
   ]
  },
  {
   "cell_type": "markdown",
   "metadata": {},
   "source": [
    "# Example 1: LinSat"
   ]
  },
  {
   "cell_type": "markdown",
   "metadata": {},
   "source": [
    "In this example, we'll consider a linear network with one ground node and a satellite tracking in an overhead plane:"
   ]
  },
  {
   "cell_type": "code",
   "execution_count": 6,
   "metadata": {},
   "outputs": [
    {
     "name": "stdout",
     "output_type": "stream",
     "text": [
      "Qnode.name: A -- Coords:[50, 0, 0] -- <class 'Node.Qnode'>\n",
      "Qnode.name: B -- Coords:[150, 0, 0] -- <class 'Node.Qnode'>\n",
      "Qnode.name: G -- Coords:[100, 0, 0] -- <class 'Node.Ground'>\n",
      "Qnode.name: S -- Coords:[0, 0, 100] -- <class 'Node.Satellite'>\n",
      "\n",
      "\n",
      "A <--> G -- Costs: {'loss': 0.15}\n",
      "A <--> S -- Costs: {'loss': 0.1361474405744575}\n",
      "B <--> G -- Costs: {'loss': 0.15}\n",
      "B <--> S -- Costs: {'loss': 0.21953115153648722}\n"
     ]
    }
   ],
   "source": [
    "from Graph1 import X as X1\n",
    "\n",
    "for node in X1:\n",
    "    print(node)\n",
    "print('\\n')\n",
    "X1.print_qchans()"
   ]
  },
  {
   "cell_type": "code",
   "execution_count": 3,
   "metadata": {},
   "outputs": [
    {
     "data": {
      "application/vnd.jupyter.widget-view+json": {
       "model_id": "a5c077a4494c4abcbae2af280846d371",
       "version_major": 2,
       "version_minor": 0
      },
      "text/plain": [
       "interactive(children=(IntSlider(value=10, description='tMax', max=20, min=1), IntSlider(value=10, description=…"
      ]
     },
     "metadata": {},
     "output_type": "display_data"
    },
    {
     "data": {
      "text/plain": [
       "<function __main__.plotPaths(Q, tMax, Vx_sat, Vy_sat, swapper_prob, with_purification=True)>"
      ]
     },
     "execution_count": 3,
     "metadata": {},
     "output_type": "execute_result"
    }
   ],
   "source": [
    "from Graph1 import X as X1\n",
    "\n",
    "def plotPaths(Q, tMax, Vx_sat, Vy_sat, swapper_prob, with_purification = True):\n",
    "    \n",
    "    # Set satellite velocity to user input\n",
    "    S = Q.getNode('S')\n",
    "    S.velocity = [Vx_sat, Vy_sat]\n",
    "    \n",
    "    # Set swapper probability to user input\n",
    "    try:\n",
    "        T = Q.getNode('T')\n",
    "        T.prob = swapper_prob\n",
    "    except:\n",
    "        pass\n",
    "    \n",
    "    # Time increment\n",
    "    dt = 0.01\n",
    "    \n",
    "    # Get Time Array\n",
    "    timeArr = QNET.getTimeArr(tMax, dt)\n",
    "    \n",
    "    # Plot the losses of every simple path over time\n",
    "    pathDict = QNET.getLossArrays(Q, 'A', 'B', 'loss', tMax, dt)\n",
    "    for path in pathDict:\n",
    "        plt.plot(timeArr, pathDict[path], label = path.stringify())\n",
    "        \n",
    "    # Get the array of optimal costs over time\n",
    "    optArr = QNET.getOptimalLossArray(Q, 'A', 'B', 'loss', tMax, dt, with_purification)\n",
    "    line = plt.plot(timeArr, optArr, linestyle = ':', c = 'k', label = 'Optimal Path Cost')\n",
    "    plt.setp(line, linewidth = 3)  \n",
    "    \n",
    "    plt.xlabel('time')\n",
    "    plt.ylabel('loss')\n",
    "    plt.legend()\n",
    "    plt.show()\n",
    "    \n",
    "interact(plotPaths, \n",
    "         Q = fixed(X1),\n",
    "         tMax = (1, 20, 1), \n",
    "         Vx_sat =  (0, 20, 1), \n",
    "         Vy_sat = (0, 20, 1), \n",
    "         swapper_prob = (0.5, 1, 0.1),\n",
    "         with_purification = fixed(False))"
   ]
  },
  {
   "cell_type": "markdown",
   "metadata": {},
   "source": [
    "# Example 2: Entanglement swapping and purification"
   ]
  },
  {
   "cell_type": "code",
   "execution_count": 2,
   "metadata": {},
   "outputs": [
    {
     "data": {
      "application/vnd.jupyter.widget-view+json": {
       "model_id": "91cd440b31dd4fe183b6e65103d0fb54",
       "version_major": 2,
       "version_minor": 0
      },
      "text/plain": [
       "interactive(children=(IntSlider(value=10, description='tMax', max=20, min=1), IntSlider(value=10, description=…"
      ]
     },
     "metadata": {},
     "output_type": "display_data"
    },
    {
     "data": {
      "text/plain": [
       "<function __main__.plotPaths(Q, tMax, Vx_sat, Vy_sat, swapper_prob, with_purification=True)>"
      ]
     },
     "execution_count": 2,
     "metadata": {},
     "output_type": "execute_result"
    }
   ],
   "source": [
    "from Graph2 import X as X2\n",
    "\n",
    "def plotPaths(Q, tMax, Vx_sat, Vy_sat, swapper_prob, with_purification = True):\n",
    "    \n",
    "    # Set satellite velocity to user input\n",
    "    S = Q.getNode('S')\n",
    "    S.velocity = [Vx_sat, Vy_sat]\n",
    "    \n",
    "    # Set swapper probability to user input\n",
    "    T = Q.getNode('T')\n",
    "    T.prob = swapper_prob\n",
    "    \n",
    "    # Time increment\n",
    "    dt = 0.01\n",
    "    \n",
    "    # Get Time Array\n",
    "    timeArr = QNET.getTimeArr(tMax, dt)\n",
    "    \n",
    "    # Plot the losses of every simple path over time\n",
    "    pathDict = QNET.getLossArrays(Q, 'A', 'B', 'loss', tMax, dt)\n",
    "    for path in pathDict:\n",
    "        plt.plot(timeArr, pathDict[path], label = path.stringify())\n",
    "        \n",
    "    # Get the array of optimal costs over time\n",
    "    optArr = QNET.getOptimalLossArray(Q, 'A', 'B', 'loss', tMax, dt, with_purification)\n",
    "    line = plt.plot(timeArr, optArr, linestyle = ':', c = 'k', label = 'Optimal Path Cost')\n",
    "    plt.setp(line, linewidth = 3)  \n",
    "    \n",
    "    plt.xlabel('time')\n",
    "    plt.ylabel('loss')\n",
    "    plt.legend()\n",
    "    plt.show()\n",
    "    \n",
    "interact(plotPaths, \n",
    "         Q = fixed(X2), \n",
    "         tMax =(1, 20, 1), \n",
    "         Vx_sat =  (0, 20, 1), \n",
    "         Vy_sat = (0, 20, 1),\n",
    "         swapper_prob = (0.5, 1, 0.1),\n",
    "         with_purification = False)"
   ]
  },
  {
   "cell_type": "markdown",
   "metadata": {},
   "source": [
    "# Example 3: Large purification graph\n",
    "TODO:\n",
    "Necessary?"
   ]
  },
  {
   "cell_type": "markdown",
   "metadata": {},
   "source": [
    "# Qnet Generators\n",
    "\n",
    "TODO:\n",
    "* Linear generator demo"
   ]
  },
  {
   "cell_type": "markdown",
   "metadata": {},
   "source": [
    "# Satellite Network\n",
    "TODO"
   ]
  },
  {
   "cell_type": "code",
   "execution_count": 5,
   "metadata": {},
   "outputs": [
    {
     "data": {
      "image/png": "[encoded data removed]",
      "text/plain": [
       "<Figure size 432x288 with 1 Axes>"
      ]
     },
     "metadata": {
      "needs_background": "light"
     },
     "output_type": "display_data"
    }
   ],
   "source": [
    "'''\n",
    "==============\n",
    "3D scatterplot\n",
    "==============\n",
    "\n",
    "Demonstration of a basic scatterplot in 3D.\n",
    "'''\n",
    "\n",
    "def randrange(n, vmin, vmax):\n",
    "    '''\n",
    "    Helper function to make an array of random numbers having shape (n, )\n",
    "    with each number distributed Uniform(vmin, vmax).\n",
    "    '''\n",
    "    return (vmax - vmin)*np.random.rand(n) + vmin\n",
    "\n",
    "fig = plt.figure()\n",
    "ax = fig.add_subplot(111, projection='3d')\n",
    "\n",
    "n = 100\n",
    "\n",
    "# For each set of style and range settings, plot n random points in the box\n",
    "# defined by x in [23, 32], y in [0, 100], z in [zlow, zhigh].\n",
    "for c, m, zlow, zhigh in [('r', 'o', -50, -25), ('b', '^', -30, -5)]:\n",
    "    xs = randrange(n, 23, 32)\n",
    "    ys = randrange(n, 0, 100)\n",
    "    zs = randrange(n, zlow, zhigh)\n",
    "    ax.scatter(xs, ys, zs, c=c, marker=m)\n",
    "\n",
    "ax.set_xlabel('X Label')\n",
    "ax.set_ylabel('Y Label')\n",
    "ax.set_zlabel('Z Label')\n",
    "\n",
    "plt.show()"
   ]
  },
  {
   "cell_type": "code",
   "execution_count": 10,
   "metadata": {},
   "outputs": [
    {
     "data": {
      "application/vnd.jupyter.widget-view+json": {
       "model_id": "0f4a67b5d26643ad8ce206527cca6ce2",
       "version_major": 2,
       "version_minor": 0
      },
      "text/plain": [
       "Canvas(toolbar=Toolbar(toolitems=[('Home', 'Reset original view', 'home', 'home'), ('Back', 'Back to previous …"
      ]
     },
     "metadata": {},
     "output_type": "display_data"
    }
   ],
   "source": [
    "fig = plt.figure()\n",
    "ax = fig.add_subplot(111, projection='3d')\n",
    "\n",
    "# Note widget requires external packkage jupyter matplotlib\n",
    "# %matplotlib widget\n",
    "\n",
    "for node in X2.nodes:\n",
    "    x = node.coords[0]\n",
    "    y = node.coords[1]\n",
    "    z = node.coords[2]\n",
    "    \n",
    "    # TODO: Create different markers depending on node type\n",
    "    ax.scatter(x, y, z, c = 'b', marker = 'o')\n",
    "    ax.text(x, y, z, '%s' % node.name, size=12, zorder=1)\n",
    "    \n",
    "    # Todo: Figure out how to offset text.\n",
    "\n",
    "for edge in X2.edges:\n",
    "    xs = [edge[0].coords[0], edge[1].coords[0]]\n",
    "    ys = [edge[0].coords[1], edge[1].coords[1]]\n",
    "    zs = [edge[0].coords[2], edge[1].coords[2]]\n",
    "    \n",
    "    # TODO: Set custom line styles depending on which nodes are being connected\n",
    "    # TODO: Label lines with costs\n",
    "    \n",
    "    if (isinstance(edge[0], QNET.Satellite) or isinstance(edge[1], QNET.Satellite)):\n",
    "        line = art3d.Line3D(xs, ys, zs, linestyle = '--')\n",
    "    \n",
    "    else:\n",
    "        line = art3d.Line3D(xs, ys, zs)\n",
    "        \n",
    "    ax.add_line(line)\n",
    "\n",
    "plt.show()\n",
    "    "
   ]
  },
  {
   "cell_type": "code",
   "execution_count": 15,
   "metadata": {},
   "outputs": [
    {
     "data": {
      "application/vnd.jupyter.widget-view+json": {
       "model_id": "b9e7da21732b451f8e9f46f6104112c7",
       "version_major": 2,
       "version_minor": 0
      },
      "text/plain": [
       "Canvas(toolbar=Toolbar(toolitems=[('Home', 'Reset original view', 'home', 'home'), ('Back', 'Back to previous …"
      ]
     },
     "metadata": {},
     "output_type": "display_data"
    }
   ],
   "source": [
    "## This function takes a Qnet graph and returns a figure\n",
    "def Qnet3dPlot(Q):\n",
    "    fig = plt.figure()\n",
    "    ax = fig.add_subplot(111, projection='3d')\n",
    "\n",
    "    # Note widget requires external packkage jupyter matplotlib\n",
    "    # %matplotlib widget\n",
    "\n",
    "    for node in X2.nodes:\n",
    "        x = node.coords[0]\n",
    "        y = node.coords[1]\n",
    "        z = node.coords[2]\n",
    "    \n",
    "        # Dictionary between colours and node types\n",
    "        qnode_color = {QNET.Qnode:'r', QNET.Ground:'y', QNET.Swapper:'c', QNET.Satellite:'b'}\n",
    "        \n",
    "        ax.scatter(x, y, z, c = qnode_color[type(node)], marker = 'o')\n",
    "        ax.text(x, y, z, '%s' % node.name, size=12, zorder=1)\n",
    "    \n",
    "        # Todo: Figure out how to offset text.\n",
    "\n",
    "    for edge in X2.edges:\n",
    "        xs = [edge[0].coords[0], edge[1].coords[0]]\n",
    "        ys = [edge[0].coords[1], edge[1].coords[1]]\n",
    "        zs = [edge[0].coords[2], edge[1].coords[2]]\n",
    "    \n",
    "        # TODO: Set custom line styles depending on which nodes are being connected\n",
    "        # TODO: Label lines with costs\n",
    "    \n",
    "        if (isinstance(edge[0], QNET.Satellite) or isinstance(edge[1], QNET.Satellite)):\n",
    "            line = art3d.Line3D(xs, ys, zs, linestyle = '--')\n",
    "    \n",
    "        else:\n",
    "            line = art3d.Line3D(xs, ys, zs)\n",
    "        \n",
    "        ax.add_line(line)\n",
    "        \n",
    "    return fig\n",
    "\n",
    "def QnetAnimation(Q, dt):\n",
    "    \n",
    "    # TODO:\n",
    "    # Might need a special init function to make the animation go.\n",
    "\n",
    "    # Creating the Animation object\n",
    "    line_ani = animation.FuncAnimation(Qnet3dPlot(Q), func = Q.update, frames = 500, \n",
    "                                       fargs=(dt), interval=50, blit=False)\n",
    "    plt.show()\n",
    "\n",
    "QnetAnimation(X2, dt = 0.01)"
   ]
  },
  {
   "cell_type": "code",
   "execution_count": null,
   "metadata": {},
   "outputs": [],
   "source": []
  }
 ],
 "metadata": {
  "kernelspec": {
   "display_name": "Python 3",
   "language": "python",
   "name": "python3"
  },
  "language_info": {
   "codemirror_mode": {
    "name": "ipython",
    "version": 3
   },
   "file_extension": ".py",
   "mimetype": "text/x-python",
   "name": "python",
   "nbconvert_exporter": "python",
   "pygments_lexer": "ipython3",
   "version": "3.7.3"
  },
  "toc": {
   "base_numbering": 1,
   "nav_menu": {},
   "number_sections": true,
   "sideBar": true,
   "skip_h1_title": false,
   "title_cell": "Table of Contents",
   "title_sidebar": "Contents",
   "toc_cell": false,
   "toc_position": {},
   "toc_section_display": true,
   "toc_window_display": true
  }
 },
 "nbformat": 4,
 "nbformat_minor": 2
}
