{
 "cells": [
  {
   "cell_type": "markdown",
   "metadata": {},
   "source": [
    "# A Brief Intoduction To Qnet\n",
    "\n",
    "Hudson Leone <br>\n",
    "Hudson.T.Leone@UTS.student.edu.au <br>\n",
    "leoneht0@gmail.com <br>\n",
    "13/04/20"
   ]
  },
  {
   "cell_type": "code",
   "execution_count": 78,
   "metadata": {},
   "outputs": [],
   "source": [
    "import networkx as nx\n",
    "import QNET\n",
    "import numpy as np\n",
    "import matplotlib.pyplot as plt\n",
    "\n",
    "from Graph1 import X as X1\n",
    "from Graph2 import X as X2\n",
    "\n",
    "from ipywidgets import interact, interactive, fixed, interact_manual\n",
    "import ipywidgets as widgets"
   ]
  },
  {
   "cell_type": "markdown",
   "metadata": {},
   "source": [
    "## What is Qnet?\n",
    "\n",
    "Qnet will be an extention for the Python module NetworkX, which I'm currently developping under the supervision of Dr. Peter Rohde. Our intention is to produce a package capable of simulating realistic quantum networks on a graph theoretical level and provide users with intuitive tools for:\n",
    "\n",
    "* Developing and testing new local protocols for quantum internet\n",
    "* Implementing contemporary strategies for entanglement distribution such as through entanglement purification and entanglement swapping \n",
    "* Generating quantum networks of different sizes and topologies\n",
    "* Evaluating costs unique to quantum communications such as coherence and fidelity \n",
    "* Simulating quantum networks with global satellite constellations.\n"
   ]
  },
  {
   "cell_type": "markdown",
   "metadata": {},
   "source": [
    "## Why NetworkX?\n",
    "\n",
    "NetworkX is a fast and robust Python package suitable for simmulating network structures of up to 10 million nodes and 100 million edges. The NetworkX library is large with many built-in optimization functions and has support from 3rd party visualisation packages such as Cytoscape, Gephi, Graphviz and, for LaTeX typesetting, PGF/TikZ.\n",
    "\n",
    "For doccumentation please visit the [NetworkX website](https://networkx.github.io/documentation/latest/)"
   ]
  },
  {
   "cell_type": "markdown",
   "metadata": {},
   "source": [
    "## Why Qnet?\n",
    "\n",
    "Qnet emerges from the growing need of data scientists to research quantum networks without any such thing existing in the real world as of 2020. Our team envisions a dual network where quibits are communicated via the lossless entanglement channel. Say we have two communication parties, Alice and Bob, who each recieve half of a known entangled state such as a bell pair. Rather than encode a qubit and send it to Bob directly, Alice can communicate a qubit by manipulating her half of the bell pair, performing a measurement, and sending Bob the result.\n",
    "\n",
    "This approach greatly simplifies the problem of communicating qubits. Rather than send a qubit directly through a lossy channel, we can focus on producing large numbers of known bell pairs, which can purified as they pass through the network. Additionally, the entanglement based network will continue to make use of existing infrastrucutre to communicate measurement results.\n",
    "\n",
    "The purpose of Qnet is not to simulate the state of the bell pair as it travels to Alice and Bob, nor does it focus on a realistic implementation of low-level protocols. Instead, Qnet is intended as a way to calculate costs unique to quantum networks and then perform optimizations using existing mathematical and graph theory techniques."
   ]
  },
  {
   "cell_type": "markdown",
   "metadata": {},
   "source": [
    "# Implementation:\n",
    "\n",
    "A Qnet is a subclass of networkX. Anything you'd want to do with NetworkX you can also do with Qnet."
   ]
  },
  {
   "cell_type": "code",
   "execution_count": 79,
   "metadata": {},
   "outputs": [
    {
     "name": "stdout",
     "output_type": "stream",
     "text": [
      "['A', 'B', 'C']\n",
      "Easy as 1, 2, 3\n"
     ]
    }
   ],
   "source": [
    "myNet = QNET.Qnet()\n",
    "myNet.add_node('A')\n",
    "myNet.add_nodes_from(['B', 'C'])\n",
    "print(myNet.nodes)\n",
    "print(\"Easy as 1, 2, 3\")"
   ]
  },
  {
   "cell_type": "markdown",
   "metadata": {},
   "source": [
    "## Qnodes:\n",
    "\n",
    "Qnodes are the building blocks of Qnet. The Qnode type is the default class, but different subclasses perform different functions.\n",
    "\n",
    "Qnodes can be initialized one at a time or initialized from an array of dictionaries."
   ]
  },
  {
   "cell_type": "code",
   "execution_count": 80,
   "metadata": {},
   "outputs": [
    {
     "name": "stdout",
     "output_type": "stream",
     "text": [
      "Qnode.name: Athos -- Coords:[1, 2, 3] -- <class 'Node.Qnode'>\n"
     ]
    }
   ],
   "source": [
    "Q = QNET.Qnet()\n",
    "new_node = QNET.Qnode(name = 'Athos', coords = [1,2,3])\n",
    "print(new_node)\n",
    "Q.add_node(new_node)"
   ]
  },
  {
   "cell_type": "code",
   "execution_count": 81,
   "metadata": {},
   "outputs": [
    {
     "name": "stdout",
     "output_type": "stream",
     "text": [
      "Qnode.name: Porthos -- Coords:[2, 3, 4] -- <class 'Node.Qnode'>\n",
      "Qnode.name: Aramis -- Coords:[3, 4, 5] -- <class 'Node.Qnode'>\n"
     ]
    }
   ],
   "source": [
    "Q = QNET.Qnet()\n",
    "new_nodes = [{'name': 'Porthos', 'coords':[2,3,4]}, {'name': 'Aramis', 'coords':[3,4,5]}]\n",
    "Q.add_qnodes_from(new_nodes)\n",
    "for node in Q.nodes():\n",
    "    print(node)"
   ]
  },
  {
   "cell_type": "markdown",
   "metadata": {},
   "source": [
    "### Grounds\n",
    "\n",
    "Ground nodes are the entanglement sources of the network. A quantum communication is impossible  between two parties unless there is at least one Ground in the path connecting them."
   ]
  },
  {
   "cell_type": "markdown",
   "metadata": {},
   "source": [
    "### Satellites\n",
    "\n",
    "Satellite nodes are ground nodes, but with additional velocity and range attributes. Loss between satellites and nodes on the ground are calculated with an attribute function called airCost"
   ]
  },
  {
   "cell_type": "markdown",
   "metadata": {},
   "source": [
    "### Swappers\n",
    "\n",
    "Swapper nodes perform a swapping operation via polarizing beam splitter. Given two pairs of bell states, the swapper measures the two innermost qubits and projects the entanglement on the outermost qubits with probability 1/2. In order for the swapper to work, there must be at least two ground stations on the path with the swapper, one on either side."
   ]
  },
  {
   "cell_type": "markdown",
   "metadata": {},
   "source": [
    "## Channels"
   ]
  },
  {
   "cell_type": "markdown",
   "metadata": {},
   "source": [
    "Channels in Qnet currently work the same as edges in NetworkX. Given two nodes you can initialise an edge between them one by one or from a list of dictionaries. Any attributes aside from 'edge' will be added into a cost vector associated with that channel."
   ]
  },
  {
   "cell_type": "code",
   "execution_count": 82,
   "metadata": {},
   "outputs": [
    {
     "name": "stdout",
     "output_type": "stream",
     "text": [
      "Qnode.name: A -- Coords:[0, 0, 0] -- <class 'Node.Qnode'>\n",
      "Qnode.name: B -- Coords:[1, 1, 1] -- <class 'Node.Qnode'>\n",
      "Qnode.name: C -- Coords:[2, 2, 2] -- <class 'Node.Qnode'>\n",
      "Qnode.name: D -- Coords:[3, 3, 3] -- <class 'Node.Qnode'>\n",
      "\n",
      "\n",
      "A <--> B -- Costs: {'Loss': 100}\n",
      "A <--> D -- Costs: {}\n",
      "B <--> C -- Costs: {'Fid': 0.5}\n",
      "B <--> D -- Costs: {'Language': 'French'}\n"
     ]
    }
   ],
   "source": [
    "Q = QNET.Qnet()\n",
    "new_nodes = [{'name': 'A', 'coords':[0,0,0]},\n",
    "             {'name': 'B', 'coords':[1,1,1]}, \n",
    "             {'name': 'C', 'coords':[2,2,2]},\n",
    "            {'name': 'D', 'coords':[3,3,3]}]\n",
    "\n",
    "new_chans = [{'edge': ('A', 'B'), 'Loss':100},\n",
    "            {'edge': ('B', 'C'), 'Fid': 0.5},\n",
    "            {'edge': ('B', 'D'), 'Language':'French'},\n",
    "            {'edge': ('D', 'A')}]\n",
    "\n",
    "Q.add_qnodes_from(new_nodes)\n",
    "Q.add_qchans_from(new_chans)\n",
    "\n",
    "for node in Q.nodes:\n",
    "    print(node)\n",
    "    \n",
    "print('\\n')\n",
    "\n",
    "Q.print_qchans()"
   ]
  },
  {
   "cell_type": "markdown",
   "metadata": {},
   "source": [
    "## Costs:\n",
    "\n",
    "Qnet can work with a variety of cost types\n",
    "\n",
    "* P <br>\n",
    "    Probability of a successful Bell pair transmission\n",
    "* Q <br> \n",
    "    Dephasing probability: <br> Q = 1 - P\n",
    "* loss <br>\n",
    "    Decibelic form of P: <br> loss = -ln(P) <br>\n",
    "* gain <br>\n",
    "    Decibelic form of Q: <br> gain = -ln(Q) <br>\n",
    "    \n",
    "The fidelity of an entangled bell pair "
   ]
  },
  {
   "cell_type": "markdown",
   "metadata": {},
   "source": [
    "## Paths\n",
    "\n",
    "The Path class in Qnet is a quick and easy way to keep track of important paths in Qnet and also offers a simple cost() method for determining the cost of the path for various metrics:\n",
    "\n",
    "TODO: Example"
   ]
  },
  {
   "cell_type": "markdown",
   "metadata": {},
   "source": [
    "## Visualising Qnet Structures\n",
    "\n",
    "TODO: Example"
   ]
  },
  {
   "cell_type": "markdown",
   "metadata": {},
   "source": [
    "# Example 1: LinSat"
   ]
  },
  {
   "cell_type": "markdown",
   "metadata": {},
   "source": [
    "In this example, we'll consider a linear network with one ground node and a satellite tracking in an overhead plane:"
   ]
  },
  {
   "cell_type": "code",
   "execution_count": 83,
   "metadata": {},
   "outputs": [
    {
     "name": "stdout",
     "output_type": "stream",
     "text": [
      "Qnode.name: A -- Coords:[50, 0, 0] -- <class 'Node.Qnode'>\n",
      "Qnode.name: B -- Coords:[150, 0, 0] -- <class 'Node.Qnode'>\n",
      "Qnode.name: G -- Coords:[100, 0, 0] -- <class 'Node.Ground'>\n",
      "Qnode.name: S -- Coords:[0, 0, 100] -- <class 'Node.Satellite'>\n",
      "\n",
      "\n",
      "A <--> G -- Costs: {'loss': 0.2}\n",
      "A <--> S -- Costs: {'loss': 0.1361474405744575}\n",
      "B <--> G -- Costs: {'loss': 0.2}\n",
      "B <--> S -- Costs: {'loss': 0.21953115153648722}\n"
     ]
    }
   ],
   "source": [
    "from Graph1 import X as X1\n",
    "\n",
    "for node in X1:\n",
    "    print(node)\n",
    "print('\\n')\n",
    "X1.print_qchans()"
   ]
  },
  {
   "cell_type": "code",
   "execution_count": 84,
   "metadata": {},
   "outputs": [
    {
     "data": {
      "application/vnd.jupyter.widget-view+json": {
       "model_id": "cfcf0e4d9b09475daaca35265c608755",
       "version_major": 2,
       "version_minor": 0
      },
      "text/plain": [
       "interactive(children=(IntSlider(value=10, description='tMax', max=20, min=1), IntSlider(value=10, description=…"
      ]
     },
     "metadata": {},
     "output_type": "display_data"
    },
    {
     "data": {
      "text/plain": [
       "<function __main__.plotPaths(tMax, Vx_sat, Vy_sat)>"
      ]
     },
     "execution_count": 84,
     "metadata": {},
     "output_type": "execute_result"
    },
    {
     "data": {
      "image/png": "[encoded data removed]",
      "text/plain": [
       "<Figure size 432x288 with 1 Axes>"
      ]
     },
     "metadata": {
      "needs_background": "light"
     },
     "output_type": "display_data"
    }
   ],
   "source": [
    "from Graph1 import X as X1\n",
    "\n",
    "def plotPaths(tMax, Vx_sat, Vy_sat):\n",
    "    \n",
    "    # Set satellite velocity to user input\n",
    "    S = X1.getNode('S')\n",
    "    S.velocity = [Vx_sat, Vy_sat]\n",
    "    \n",
    "    # Time increment\n",
    "    dt = 0.01\n",
    "    \n",
    "    # Get Time Array\n",
    "    timeArr = QNET.getTimeArr(tMax, dt)\n",
    "    \n",
    "    # Plot the losses of every simple path over time\n",
    "    pathDict = QNET.getLossArrays(X1, 'A', 'B', 'loss', tMax, dt)\n",
    "    for path in pathDict:\n",
    "        plt.plot(timeArr, pathDict[path], label = path.stringify())\n",
    "        \n",
    "    # Get the array of optimal costs over time\n",
    "    optArr = QNET.getOptimalLossArray(X1, 'A', 'B', 'loss', tMax, dt, with_purification = False)\n",
    "    line = plt.plot(timeArr, optArr, linestyle = ':', c = 'k', label = 'Optimal Path Cost')\n",
    "    plt.setp(line, linewidth = 3)  \n",
    "    \n",
    "    plt.xlabel('time')\n",
    "    plt.ylabel('loss')\n",
    "    plt.legend()\n",
    "    plt.show()\n",
    "    \n",
    "interact(plotPaths, tMax =(1, 20, 1), Vx_sat =  (0, 20, 1), Vy_sat = (0, 20, 1))"
   ]
  },
  {
   "cell_type": "markdown",
   "metadata": {},
   "source": [
    "# Example 2: Entanglement swapping"
   ]
  },
  {
   "cell_type": "markdown",
   "metadata": {},
   "source": [
    "# Entanglement purification"
   ]
  },
  {
   "cell_type": "markdown",
   "metadata": {},
   "source": [
    "# Qnet Generators"
   ]
  },
  {
   "cell_type": "code",
   "execution_count": 10,
   "metadata": {},
   "outputs": [
    {
     "data": {
      "application/vnd.jupyter.widget-view+json": {
       "model_id": "03f01dddeb394a7287eb7b36754091c1",
       "version_major": 2,
       "version_minor": 0
      },
      "text/plain": [
       "interactive(children=(FloatSlider(value=0.0, description='x', max=3.0, min=-3.0, step=0.5), Output()), _dom_cl…"
      ]
     },
     "metadata": {},
     "output_type": "display_data"
    },
    {
     "data": {
      "text/plain": [
       "<function __main__.f(x)>"
      ]
     },
     "execution_count": 10,
     "metadata": {},
     "output_type": "execute_result"
    }
   ],
   "source": [
    "def f(x):\n",
    "    plt.plot(np.arange(0,10), x*np.arange(0,10))\n",
    "    plt.ylim(-30, 30)\n",
    "interact(f, x =(-3, 3, 0.5))"
   ]
  },
  {
   "cell_type": "code",
   "execution_count": 19,
   "metadata": {},
   "outputs": [
    {
     "data": {
      "application/vnd.jupyter.widget-view+json": {
       "model_id": "645db78fc7c443cdbe065c3f65c7840b",
       "version_major": 2,
       "version_minor": 0
      },
      "text/plain": [
       "interactive(children=(FloatSlider(value=0.0, description='a', max=3.0, min=-3.0), FloatSlider(value=0.0, descr…"
      ]
     },
     "metadata": {},
     "output_type": "display_data"
    },
    {
     "data": {
      "text/plain": [
       "<function __main__.g(a, b)>"
      ]
     },
     "execution_count": 19,
     "metadata": {},
     "output_type": "execute_result"
    }
   ],
   "source": [
    "def g(a,b):\n",
    "    x = np.arange(-10,10,0.1)\n",
    "    plt.plot(np.arange(-10,10,0.1), a*x**2 + b*x)\n",
    "    plt.title(\"Quadratic curve\")\n",
    "interact(g, a= (-3, 3, 0.1), b= (-3, 3, 0.1))"
   ]
  },
  {
   "cell_type": "code",
   "execution_count": 13,
   "metadata": {},
   "outputs": [],
   "source": [
    "Mynode = QNET.Qnode(Name = 'MyNode', Coords = [1,2,3])"
   ]
  }
 ],
 "metadata": {
  "kernelspec": {
   "display_name": "Python 3",
   "language": "python",
   "name": "python3"
  },
  "language_info": {
   "codemirror_mode": {
    "name": "ipython",
    "version": 3
   },
   "file_extension": ".py",
   "mimetype": "text/x-python",
   "name": "python",
   "nbconvert_exporter": "python",
   "pygments_lexer": "ipython3",
   "version": "3.7.3"
  },
  "toc": {
   "base_numbering": 1,
   "nav_menu": {},
   "number_sections": true,
   "sideBar": true,
   "skip_h1_title": false,
   "title_cell": "Table of Contents",
   "title_sidebar": "Contents",
   "toc_cell": false,
   "toc_position": {},
   "toc_section_display": true,
   "toc_window_display": true
  }
 },
 "nbformat": 4,
 "nbformat_minor": 2
}
